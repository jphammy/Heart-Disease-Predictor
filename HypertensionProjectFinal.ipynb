{
  "nbformat": 4,
  "nbformat_minor": 0,
  "metadata": {
    "colab": {
      "name": "HypertensionProjectFinal.ipynb",
      "version": "0.3.2",
      "provenance": [],
      "collapsed_sections": [],
      "include_colab_link": true
    },
    "kernelspec": {
      "name": "python3",
      "display_name": "Python 3"
    }
  },
  "cells": [
    {
      "cell_type": "markdown",
      "metadata": {
        "id": "view-in-github",
        "colab_type": "text"
      },
      "source": [
        "<a href=\"https://colab.research.google.com/github/jphammy/Heart-Disease-Predictor/blob/master/HypertensionProjectFinal.ipynb\" target=\"_parent\"><img src=\"https://colab.research.google.com/assets/colab-badge.svg\" alt=\"Open In Colab\"/></a>"
      ]
    },
    {
      "metadata": {
        "id": "AX63Q-TpsDTc",
        "colab_type": "text"
      },
      "cell_type": "markdown",
      "source": [
        "**Jonathan Pham**\n",
        "\n",
        "**CS 4300 AI SP19**\n",
        "\n",
        "**Heart Disease Prediction**\n",
        "\n",
        "**Dataset**: https://www.kaggle.com/ronitf/heart-disease-uci \n"
      ]
    },
    {
      "metadata": {
        "id": "ZlsiV0SNcDqb",
        "colab_type": "text"
      },
      "cell_type": "markdown",
      "source": [
        "**Heart Disease Background**:\n",
        "\n",
        "Heart disease is a general term for a number of different conditions, the cause of your case depends on the type you have. The bad news about heart disease is that it remains extremely prevalent in our society—it's the leading cause of death for both men and women in the United States. It is estimated that 90% of CVD is preventable. There are many risk factors for heart diseases that we will take a closer look at.\n",
        "\n",
        "The objective is to build a model that may predict  heart disease prevalence. After loading  heart.csv file, a little bit of sanity checking will be performed to ensure the proper data is being fed into our project. Next, heart disease occure will be predicted based on a combination of risk factors describing the disease. Different neural network techniques will be implemented, models/graphs (pie-chart, bargraph, pair plots) will be utilized for visualization, and data will be verified based on accuracy of the target, heart disease.\n",
        "\n",
        "\n",
        "\n"
      ]
    },
    {
      "metadata": {
        "id": "v_Zs5j-3lroq",
        "colab_type": "code",
        "colab": {}
      },
      "cell_type": "code",
      "source": [
        "# important libraries\n",
        "import pandas as pd\n",
        "import numpy as np\n",
        "import matplotlib.pyplot as plt\n",
        "import seaborn as sns\n",
        "import tensorflow as tf\n",
        "from keras.models import Sequential\n",
        "from keras.layers import Dense\n",
        "from tensorflow import keras\n",
        "from sklearn.model_selection import train_test_split\n",
        "from sklearn.preprocessing import StandardScaler\n",
        "from sklearn.linear_model import LogisticRegression\n",
        "%matplotlib inline\n"
      ],
      "execution_count": 0,
      "outputs": []
    },
    {
      "metadata": {
        "id": "zeWkAhutmjKx",
        "colab_type": "code",
        "outputId": "087b47b7-bc72-4d26-d3c3-dcd96e55780d",
        "colab": {
          "resources": {
            "http://localhost:8080/nbextensions/google.colab/files.js": {
              "data": "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",
              "ok": true,
              "headers": [
                [
                  "content-type",
                  "application/javascript"
                ]
              ],
              "status": 200,
              "status_text": ""
            }
          },
          "base_uri": "https://localhost:8080/",
          "height": 74
        }
      },
      "cell_type": "code",
      "source": [
        "from google.colab import files\n",
        "uploaded = files.upload()"
      ],
      "execution_count": 74,
      "outputs": [
        {
          "output_type": "display_data",
          "data": {
            "text/html": [
              "\n",
              "     <input type=\"file\" id=\"files-e91bc11e-5d25-4c18-b356-faa6337f13dc\" name=\"files[]\" multiple disabled />\n",
              "     <output id=\"result-e91bc11e-5d25-4c18-b356-faa6337f13dc\">\n",
              "      Upload widget is only available when the cell has been executed in the\n",
              "      current browser session. Please rerun this cell to enable.\n",
              "      </output>\n",
              "      <script src=\"/nbextensions/google.colab/files.js\"></script> "
            ],
            "text/plain": [
              "<IPython.core.display.HTML object>"
            ]
          },
          "metadata": {
            "tags": []
          }
        },
        {
          "output_type": "stream",
          "text": [
            "Saving heart.csv to heart (2).csv\n"
          ],
          "name": "stdout"
        }
      ]
    },
    {
      "metadata": {
        "id": "56Mw1OQYmjui",
        "colab_type": "code",
        "colab": {}
      },
      "cell_type": "code",
      "source": [
        "# skip first row, the description of the column\n",
        "import numpy as np\n",
        "df = np.loadtxt('heart.csv', skiprows = 1,  delimiter=',')"
      ],
      "execution_count": 0,
      "outputs": []
    },
    {
      "metadata": {
        "id": "hSHIT7RcBCLp",
        "colab_type": "text"
      },
      "cell_type": "markdown",
      "source": [
        "## **Do some *necessary* sanity checking**"
      ]
    },
    {
      "metadata": {
        "id": "OSWVHm_vBI3x",
        "colab_type": "code",
        "outputId": "5b0f3264-f42b-4baf-d6af-4f94533e023c",
        "colab": {
          "base_uri": "https://localhost:8080/",
          "height": 34
        }
      },
      "cell_type": "code",
      "source": [
        "# Will print (rows, columns)\n",
        "print(df.shape)\n"
      ],
      "execution_count": 76,
      "outputs": [
        {
          "output_type": "stream",
          "text": [
            "(303, 14)\n"
          ],
          "name": "stdout"
        }
      ]
    },
    {
      "metadata": {
        "id": "ZDm6JTugBq5S",
        "colab_type": "code",
        "outputId": "bfef1c56-7c74-4d1d-fca0-6c0974a4d229",
        "colab": {
          "base_uri": "https://localhost:8080/",
          "height": 187
        }
      },
      "cell_type": "code",
      "source": [
        "print(df[0:5, :])\n",
        "# Should print first 5x5 rows & columns in heart.csv data file"
      ],
      "execution_count": 77,
      "outputs": [
        {
          "output_type": "stream",
          "text": [
            "[[ 63.    1.    3.  145.  233.    1.    0.  150.    0.    2.3   0.    0.\n",
            "    1.    1. ]\n",
            " [ 37.    1.    2.  130.  250.    0.    1.  187.    0.    3.5   0.    0.\n",
            "    2.    1. ]\n",
            " [ 41.    0.    1.  130.  204.    0.    0.  172.    0.    1.4   2.    0.\n",
            "    2.    1. ]\n",
            " [ 56.    1.    1.  120.  236.    0.    1.  178.    0.    0.8   2.    0.\n",
            "    2.    1. ]\n",
            " [ 57.    0.    0.  120.  354.    0.    1.  163.    1.    0.6   2.    0.\n",
            "    2.    1. ]]\n"
          ],
          "name": "stdout"
        }
      ]
    },
    {
      "metadata": {
        "id": "YWT7XhwgCous",
        "colab_type": "code",
        "outputId": "ee6c0e1f-4d22-4758-b8a5-8c7c9cda1e55",
        "colab": {
          "base_uri": "https://localhost:8080/",
          "height": 51
        }
      },
      "cell_type": "code",
      "source": [
        "# Prints max and min, respectively, from the last column which is our target \n",
        "# of whether the individual has heart disease or not. \n",
        "# 0 indicates absense of heart disease\n",
        "# 1 indicates presense of heart disease\n",
        "print(np.max(df[:, 13]))\n",
        "print(np.min(df[:, 13]))\n"
      ],
      "execution_count": 78,
      "outputs": [
        {
          "output_type": "stream",
          "text": [
            "1.0\n",
            "0.0\n"
          ],
          "name": "stdout"
        }
      ]
    },
    {
      "metadata": {
        "id": "M_5N_RaCP5cw",
        "colab_type": "code",
        "outputId": "a8eaeb2c-3cf5-404f-c367-683155f98c8d",
        "colab": {
          "base_uri": "https://localhost:8080/",
          "height": 283
        }
      },
      "cell_type": "code",
      "source": [
        "plt.figure(figsize=(1,4))\n",
        "plt.plot(df_train[:, 0], df_train[:, 2], '.')\n",
        "plt.xlabel('Sex (1 = M; 0 = F)')\n",
        "plt.ylabel('Blood Pressure (mm Hg)')\n",
        "plt.show()"
      ],
      "execution_count": 81,
      "outputs": [
        {
          "output_type": "display_data",
          "data": {
            "image/png": "[encoded data removed]",
            "text/plain": [
              "<Figure size 72x288 with 1 Axes>"
            ]
          },
          "metadata": {
            "tags": []
          }
        }
      ]
    },
    {
      "metadata": {
        "id": "NeB92SELRem3",
        "colab_type": "code",
        "outputId": "db0292e7-2219-4d4d-d8c2-2911fe56f53c",
        "colab": {
          "base_uri": "https://localhost:8080/",
          "height": 283
        }
      },
      "cell_type": "code",
      "source": [
        "plt.figure(figsize=(1,4))\n",
        "plt.plot(df_train[:, 4], df_train[:, 2], '.')\n",
        "plt.xlabel('Fasting Blood Glucose Level (fasting blood sugar > 120 mg/dl) (1 = T; 0 = F)')\n",
        "plt.ylabel('Blood Pressure (mm Hg)')\n",
        "plt.show()"
      ],
      "execution_count": 82,
      "outputs": [
        {
          "output_type": "display_data",
          "data": {
            "image/png": "[encoded data removed]",
            "text/plain": [
              "<Figure size 72x288 with 1 Axes>"
            ]
          },
          "metadata": {
            "tags": []
          }
        }
      ]
    },
    {
      "metadata": {
        "id": "g7D8TPd9RjGo",
        "colab_type": "code",
        "outputId": "cccd474c-0a3e-44b1-f237-91c000a2fc1b",
        "colab": {
          "base_uri": "https://localhost:8080/",
          "height": 283
        }
      },
      "cell_type": "code",
      "source": [
        "plt.figure(figsize=(4,4))\n",
        "plt.plot(df_train[:, 1], df_train[:, 2], '.')\n",
        "plt.xlabel('Chest Pain Level')\n",
        "plt.ylabel('Blood Pressure (mm Hg)')\n",
        "plt.show()"
      ],
      "execution_count": 83,
      "outputs": [
        {
          "output_type": "display_data",
          "data": {
            "image/png": "[encoded data removed]",
            "text/plain": [
              "<Figure size 288x288 with 1 Axes>"
            ]
          },
          "metadata": {
            "tags": []
          }
        }
      ]
    },
    {
      "metadata": {
        "id": "GoqqJp6NRplw",
        "colab_type": "code",
        "outputId": "93aeb83d-6263-46c8-8ca1-d55577a8ad92",
        "colab": {
          "base_uri": "https://localhost:8080/",
          "height": 283
        }
      },
      "cell_type": "code",
      "source": [
        "plt.figure(figsize=(4,4))\n",
        "plt.plot(df_train[:, 6], df_train[:, 2], '.')\n",
        "plt.xlabel('Heart Rate Max')\n",
        "plt.ylabel('Blood Pressure (mm Hg)')\n",
        "plt.show()"
      ],
      "execution_count": 84,
      "outputs": [
        {
          "output_type": "display_data",
          "data": {
            "image/png": "[encoded data removed]",
            "text/plain": [
              "<Figure size 288x288 with 1 Axes>"
            ]
          },
          "metadata": {
            "tags": []
          }
        }
      ]
    },
    {
      "metadata": {
        "id": "IePEYIGJSBFw",
        "colab_type": "code",
        "outputId": "2087ea8d-1a96-45c9-da98-dd37b5f86a6a",
        "colab": {
          "base_uri": "https://localhost:8080/",
          "height": 283
        }
      },
      "cell_type": "code",
      "source": [
        "plt.figure(figsize=(4,4))\n",
        "plt.plot(df_train[:, 3], df_train[:, 2], '.')\n",
        "plt.xlabel('Cholesterol Level (serum cholesterol in mg/dl)')\n",
        "plt.ylabel('Blood Pressure (mm Hg)')\n",
        "plt.show()"
      ],
      "execution_count": 85,
      "outputs": [
        {
          "output_type": "display_data",
          "data": {
            "image/png": "[encoded data removed]",
            "text/plain": [
              "<Figure size 288x288 with 1 Axes>"
            ]
          },
          "metadata": {
            "tags": []
          }
        }
      ]
    },
    {
      "metadata": {
        "id": "gfXmEiYRIE6U",
        "colab_type": "text"
      },
      "cell_type": "markdown",
      "source": [
        "# **Split the data into Training data and Test data**\n",
        "\n",
        "In order to get better accuracy with logistic regression, we have to choose features that will make a real impact on the desicion of the classifier; the target (whether the person has heart disease or not), so in this case I've chosen all the columns as input features. And also extracted the last column as the output vector for the dataset.\n",
        "​\n",
        "Then I had to split the dataset into training (228) and test sets, with test set size (76) equal to 25% of the total dataset size."
      ]
    },
    {
      "metadata": {
        "id": "kfVUdHgbIIbP",
        "colab_type": "code",
        "colab": {}
      },
      "cell_type": "code",
      "source": [
        "x_train = df_train[:, 0:12]\n",
        "y_train = df_train[:, 12]\n",
        "x_test = df_test[:, 0:12]\n",
        "y_test = df_test[:, 12]"
      ],
      "execution_count": 0,
      "outputs": []
    },
    {
      "metadata": {
        "id": "tZkNzaORMGgW",
        "colab_type": "code",
        "outputId": "d7b327ff-1037-407c-822b-83d090dfa8bf",
        "colab": {
          "base_uri": "https://localhost:8080/",
          "height": 85
        }
      },
      "cell_type": "code",
      "source": [
        "print(x_train.shape)\n",
        "print(x_test.shape)\n",
        "print(y_train.shape)\n",
        "print(y_test.shape)"
      ],
      "execution_count": 87,
      "outputs": [
        {
          "output_type": "stream",
          "text": [
            "(212, 12)\n",
            "(91, 12)\n",
            "(212,)\n",
            "(91,)\n"
          ],
          "name": "stdout"
        }
      ]
    },
    {
      "metadata": {
        "id": "7-dU3Z7XMzHG",
        "colab_type": "code",
        "colab": {}
      },
      "cell_type": "code",
      "source": [
        "mean = x_train.mean(axis=0)\n",
        "x_train -= mean\n",
        "std = x_train.std(axis=0)\n",
        "x_train /= std\n",
        "\n",
        "x_test -= mean\n",
        "x_test /= std"
      ],
      "execution_count": 0,
      "outputs": []
    },
    {
      "metadata": {
        "id": "MxNI_UOspMKL",
        "colab_type": "text"
      },
      "cell_type": "markdown",
      "source": [
        "# **Analyze features, identify patterns, and explore the data**\n",
        "\n",
        "\n",
        "\n"
      ]
    },
    {
      "metadata": {
        "id": "DN7kAJ5xWnif",
        "colab_type": "code",
        "outputId": "f04af30f-d5fe-40b3-8edd-fb4e6b9fcc02",
        "colab": {
          "base_uri": "https://localhost:8080/",
          "height": 238
        }
      },
      "cell_type": "code",
      "source": [
        "\n",
        "# column names in accordance with feature information\n",
        "col_names = ['age','sex','chest_pain','bp (mm Hg)','serum_cholesterol','fbs', 'ecg',\n",
        "             'hr','exang','old_peak','slope','ca','thal','target']\n",
        "# age = age in years\n",
        "# sex = (1 = male; 0 = female)\n",
        "# chest_pain = chest pain type (1 = typical angina; 2 = atypical angina; 3 = non-anginal pain; 4 = asymptomatic)\n",
        "# bp = blood pressure (mm Hg)\n",
        "# chol = serum cholesterol (mg/dL)\n",
        "# fbs = (fasting blood sugar > 120 mg/dl) (1 = true; 0 = false)\n",
        "# ecg = electrocardiogram (0 = normal; 1 = having ST-T; 2 = hypertrophy)\n",
        "# hr = max heart rate\n",
        "# exang = exercise induced angina (1 = yes; 0 = no)\n",
        "# old_peak = ST depression induced by exercise relative to rest\n",
        "# slope = the slope of the peak exercise ST segment (1 = upsloping; 2 = flat; 3 = downsloping)\n",
        "# ca = number of major vessels (0-3) colored by flourosopy\n",
        "# thal = 3 = normal; 6 = fixed defect; 7 = reversable defect\n",
        "# target = predicted attribute - diagnosis of heart disease  (Value 0 = < 50% diameter narrowing; Value 1 = > 50% diameter narrowing)\n",
        "\n",
        "# read csv file, skip first row of descriptors\n",
        "df = pd.read_csv(\"heart.csv\", names=col_names, skiprows=1, header=None, na_values=\"?\")\n",
        "print(\"Number of records: {}\\nNumber of variables: {}\".format(df.shape[0], df.shape[1]))\n",
        "\n",
        "# display the first 5 lines\n",
        "df.head()\n"
      ],
      "execution_count": 89,
      "outputs": [
        {
          "output_type": "stream",
          "text": [
            "Number of records: 303\n",
            "Number of variables: 14\n"
          ],
          "name": "stdout"
        },
        {
          "output_type": "execute_result",
          "data": {
            "text/html": [
              "<div>\n",
              "<style scoped>\n",
              "    .dataframe tbody tr th:only-of-type {\n",
              "        vertical-align: middle;\n",
              "    }\n",
              "\n",
              "    .dataframe tbody tr th {\n",
              "        vertical-align: top;\n",
              "    }\n",
              "\n",
              "    .dataframe thead th {\n",
              "        text-align: right;\n",
              "    }\n",
              "</style>\n",
              "<table border=\"1\" class=\"dataframe\">\n",
              "  <thead>\n",
              "    <tr style=\"text-align: right;\">\n",
              "      <th></th>\n",
              "      <th>age</th>\n",
              "      <th>sex</th>\n",
              "      <th>chest_pain</th>\n",
              "      <th>bp (mm Hg)</th>\n",
              "      <th>serum_cholesterol</th>\n",
              "      <th>fbs</th>\n",
              "      <th>ecg</th>\n",
              "      <th>hr</th>\n",
              "      <th>exang</th>\n",
              "      <th>old_peak</th>\n",
              "      <th>slope</th>\n",
              "      <th>ca</th>\n",
              "      <th>thal</th>\n",
              "      <th>target</th>\n",
              "    </tr>\n",
              "  </thead>\n",
              "  <tbody>\n",
              "    <tr>\n",
              "      <th>0</th>\n",
              "      <td>63</td>\n",
              "      <td>1</td>\n",
              "      <td>3</td>\n",
              "      <td>145</td>\n",
              "      <td>233</td>\n",
              "      <td>1</td>\n",
              "      <td>0</td>\n",
              "      <td>150</td>\n",
              "      <td>0</td>\n",
              "      <td>2.3</td>\n",
              "      <td>0</td>\n",
              "      <td>0</td>\n",
              "      <td>1</td>\n",
              "      <td>1</td>\n",
              "    </tr>\n",
              "    <tr>\n",
              "      <th>1</th>\n",
              "      <td>37</td>\n",
              "      <td>1</td>\n",
              "      <td>2</td>\n",
              "      <td>130</td>\n",
              "      <td>250</td>\n",
              "      <td>0</td>\n",
              "      <td>1</td>\n",
              "      <td>187</td>\n",
              "      <td>0</td>\n",
              "      <td>3.5</td>\n",
              "      <td>0</td>\n",
              "      <td>0</td>\n",
              "      <td>2</td>\n",
              "      <td>1</td>\n",
              "    </tr>\n",
              "    <tr>\n",
              "      <th>2</th>\n",
              "      <td>41</td>\n",
              "      <td>0</td>\n",
              "      <td>1</td>\n",
              "      <td>130</td>\n",
              "      <td>204</td>\n",
              "      <td>0</td>\n",
              "      <td>0</td>\n",
              "      <td>172</td>\n",
              "      <td>0</td>\n",
              "      <td>1.4</td>\n",
              "      <td>2</td>\n",
              "      <td>0</td>\n",
              "      <td>2</td>\n",
              "      <td>1</td>\n",
              "    </tr>\n",
              "    <tr>\n",
              "      <th>3</th>\n",
              "      <td>56</td>\n",
              "      <td>1</td>\n",
              "      <td>1</td>\n",
              "      <td>120</td>\n",
              "      <td>236</td>\n",
              "      <td>0</td>\n",
              "      <td>1</td>\n",
              "      <td>178</td>\n",
              "      <td>0</td>\n",
              "      <td>0.8</td>\n",
              "      <td>2</td>\n",
              "      <td>0</td>\n",
              "      <td>2</td>\n",
              "      <td>1</td>\n",
              "    </tr>\n",
              "    <tr>\n",
              "      <th>4</th>\n",
              "      <td>57</td>\n",
              "      <td>0</td>\n",
              "      <td>0</td>\n",
              "      <td>120</td>\n",
              "      <td>354</td>\n",
              "      <td>0</td>\n",
              "      <td>1</td>\n",
              "      <td>163</td>\n",
              "      <td>1</td>\n",
              "      <td>0.6</td>\n",
              "      <td>2</td>\n",
              "      <td>0</td>\n",
              "      <td>2</td>\n",
              "      <td>1</td>\n",
              "    </tr>\n",
              "  </tbody>\n",
              "</table>\n",
              "</div>"
            ],
            "text/plain": [
              "   age  sex  chest_pain  bp (mm Hg)  serum_cholesterol  fbs  ecg   hr  exang  \\\n",
              "0   63    1           3         145                233    1    0  150      0   \n",
              "1   37    1           2         130                250    0    1  187      0   \n",
              "2   41    0           1         130                204    0    0  172      0   \n",
              "3   56    1           1         120                236    0    1  178      0   \n",
              "4   57    0           0         120                354    0    1  163      1   \n",
              "\n",
              "   old_peak  slope  ca  thal  target  \n",
              "0       2.3      0   0     1       1  \n",
              "1       3.5      0   0     2       1  \n",
              "2       1.4      2   0     2       1  \n",
              "3       0.8      2   0     2       1  \n",
              "4       0.6      2   0     2       1  "
            ]
          },
          "metadata": {
            "tags": []
          },
          "execution_count": 89
        }
      ]
    },
    {
      "metadata": {
        "id": "gLSqNyZ4XKWR",
        "colab_type": "code",
        "outputId": "ec90537c-30f8-42db-d657-0d1139a9cea2",
        "colab": {
          "base_uri": "https://localhost:8080/",
          "height": 340
        }
      },
      "cell_type": "code",
      "source": [
        "df.info()"
      ],
      "execution_count": 90,
      "outputs": [
        {
          "output_type": "stream",
          "text": [
            "<class 'pandas.core.frame.DataFrame'>\n",
            "RangeIndex: 303 entries, 0 to 302\n",
            "Data columns (total 14 columns):\n",
            "age                  303 non-null int64\n",
            "sex                  303 non-null int64\n",
            "chest_pain           303 non-null int64\n",
            "bp (mm Hg)           303 non-null int64\n",
            "serum_cholesterol    303 non-null int64\n",
            "fbs                  303 non-null int64\n",
            "ecg                  303 non-null int64\n",
            "hr                   303 non-null int64\n",
            "exang                303 non-null int64\n",
            "old_peak             303 non-null float64\n",
            "slope                303 non-null int64\n",
            "ca                   303 non-null int64\n",
            "thal                 303 non-null int64\n",
            "target               303 non-null int64\n",
            "dtypes: float64(1), int64(13)\n",
            "memory usage: 33.2 KB\n"
          ],
          "name": "stdout"
        }
      ]
    },
    {
      "metadata": {
        "id": "zKcP4zo7V_li",
        "colab_type": "code",
        "outputId": "219a8dbf-c0f0-49a9-e1d8-6c753ca41055",
        "colab": {
          "base_uri": "https://localhost:8080/",
          "height": 54
        }
      },
      "cell_type": "code",
      "source": [
        "# extract numeric columns and find categorical ones\n",
        "numeric_columns = ['serum_cholesterol', 'hr', 'age', 'bp (mm Hg)', 'slope']\n",
        "categorical_columns = [c for c in df.columns if c not in numeric_columns]\n",
        "print(categorical_columns)"
      ],
      "execution_count": 91,
      "outputs": [
        {
          "output_type": "stream",
          "text": [
            "['sex', 'chest_pain', 'fbs', 'ecg', 'exang', 'old_peak', 'ca', 'thal', 'target']\n"
          ],
          "name": "stdout"
        }
      ]
    },
    {
      "metadata": {
        "id": "iyv9dyc7V6QI",
        "colab_type": "code",
        "outputId": "f926ee3d-c38d-4037-b944-5ce809c704e8",
        "colab": {
          "base_uri": "https://localhost:8080/",
          "height": 68
        }
      },
      "cell_type": "code",
      "source": [
        "\n",
        "# count values of 'unique variable' found amongst dataset\n",
        "# 138 value occurs most in patients WITHOUT heart disease\n",
        "# 165 value occurs most in patients WITH hert disease\n",
        "df.target.value_counts()"
      ],
      "execution_count": 92,
      "outputs": [
        {
          "output_type": "execute_result",
          "data": {
            "text/plain": [
              "1    165\n",
              "0    138\n",
              "Name: target, dtype: int64"
            ]
          },
          "metadata": {
            "tags": []
          },
          "execution_count": 92
        }
      ]
    },
    {
      "metadata": {
        "id": "z6cg66e0qAIr",
        "colab_type": "code",
        "outputId": "59ecd79d-c3df-4d9a-9c2d-2a871a17565f",
        "colab": {
          "base_uri": "https://localhost:8080/",
          "height": 424
        }
      },
      "cell_type": "code",
      "source": [
        "# create two plots side by side\n",
        "# 54.5% of our dataset has heart disease\n",
        "# 45.5% of our dataset does not have heart disease\n",
        "# 165 individuals in dataset has heart disease\n",
        "# 138 individuals in dataset does not have heart disease\n",
        "f, ax = plt.subplots(1,2,figsize=(14,6))\n",
        "df['target'].value_counts().plot.pie(autopct='%1.1f%%', ax=ax[0], shadow=True)\n",
        "ax[0].set_title('target')\n",
        "ax[0].set_ylabel('')\n",
        "sns.countplot('target', data=df, ax=ax[1])\n",
        "plt.show()"
      ],
      "execution_count": 93,
      "outputs": [
        {
          "output_type": "display_data",
          "data": {
            "image/png": "[encoded data removed]",
            "text/plain": [
              "<Figure size 1008x432 with 2 Axes>"
            ]
          },
          "metadata": {
            "tags": []
          }
        }
      ]
    },
    {
      "metadata": {
        "id": "I31pgMhnp7Yj",
        "colab_type": "code",
        "outputId": "f1c146e0-eb92-48d1-bc7e-1b52f86dc7b3",
        "colab": {
          "base_uri": "https://localhost:8080/",
          "height": 68
        }
      },
      "cell_type": "code",
      "source": [
        "# create a boolean vector and map it with corresponding values (True=1, False=0)\n",
        "df.target = (df.target != 0).astype(int)\n",
        "df.target.value_counts()"
      ],
      "execution_count": 94,
      "outputs": [
        {
          "output_type": "execute_result",
          "data": {
            "text/plain": [
              "1    165\n",
              "0    138\n",
              "Name: target, dtype: int64"
            ]
          },
          "metadata": {
            "tags": []
          },
          "execution_count": 94
        }
      ]
    },
    {
      "metadata": {
        "id": "TDxlCcbsEi4n",
        "colab_type": "text"
      },
      "cell_type": "markdown",
      "source": [
        "# **Statistics**"
      ]
    },
    {
      "metadata": {
        "id": "yKYYbJVFqEOq",
        "colab_type": "code",
        "outputId": "c357faec-fc8c-4456-8fb2-2dfd92f05331",
        "colab": {
          "base_uri": "https://localhost:8080/",
          "height": 297
        }
      },
      "cell_type": "code",
      "source": [
        "# descriptive statistics at a glance\n",
        "df[numeric_columns].describe()"
      ],
      "execution_count": 95,
      "outputs": [
        {
          "output_type": "execute_result",
          "data": {
            "text/html": [
              "<div>\n",
              "<style scoped>\n",
              "    .dataframe tbody tr th:only-of-type {\n",
              "        vertical-align: middle;\n",
              "    }\n",
              "\n",
              "    .dataframe tbody tr th {\n",
              "        vertical-align: top;\n",
              "    }\n",
              "\n",
              "    .dataframe thead th {\n",
              "        text-align: right;\n",
              "    }\n",
              "</style>\n",
              "<table border=\"1\" class=\"dataframe\">\n",
              "  <thead>\n",
              "    <tr style=\"text-align: right;\">\n",
              "      <th></th>\n",
              "      <th>serum_cholesterol</th>\n",
              "      <th>hr</th>\n",
              "      <th>age</th>\n",
              "      <th>bp (mm Hg)</th>\n",
              "      <th>slope</th>\n",
              "    </tr>\n",
              "  </thead>\n",
              "  <tbody>\n",
              "    <tr>\n",
              "      <th>count</th>\n",
              "      <td>303.000000</td>\n",
              "      <td>303.000000</td>\n",
              "      <td>303.000000</td>\n",
              "      <td>303.000000</td>\n",
              "      <td>303.000000</td>\n",
              "    </tr>\n",
              "    <tr>\n",
              "      <th>mean</th>\n",
              "      <td>246.264026</td>\n",
              "      <td>149.646865</td>\n",
              "      <td>54.366337</td>\n",
              "      <td>131.623762</td>\n",
              "      <td>1.399340</td>\n",
              "    </tr>\n",
              "    <tr>\n",
              "      <th>std</th>\n",
              "      <td>51.830751</td>\n",
              "      <td>22.905161</td>\n",
              "      <td>9.082101</td>\n",
              "      <td>17.538143</td>\n",
              "      <td>0.616226</td>\n",
              "    </tr>\n",
              "    <tr>\n",
              "      <th>min</th>\n",
              "      <td>126.000000</td>\n",
              "      <td>71.000000</td>\n",
              "      <td>29.000000</td>\n",
              "      <td>94.000000</td>\n",
              "      <td>0.000000</td>\n",
              "    </tr>\n",
              "    <tr>\n",
              "      <th>25%</th>\n",
              "      <td>211.000000</td>\n",
              "      <td>133.500000</td>\n",
              "      <td>47.500000</td>\n",
              "      <td>120.000000</td>\n",
              "      <td>1.000000</td>\n",
              "    </tr>\n",
              "    <tr>\n",
              "      <th>50%</th>\n",
              "      <td>240.000000</td>\n",
              "      <td>153.000000</td>\n",
              "      <td>55.000000</td>\n",
              "      <td>130.000000</td>\n",
              "      <td>1.000000</td>\n",
              "    </tr>\n",
              "    <tr>\n",
              "      <th>75%</th>\n",
              "      <td>274.500000</td>\n",
              "      <td>166.000000</td>\n",
              "      <td>61.000000</td>\n",
              "      <td>140.000000</td>\n",
              "      <td>2.000000</td>\n",
              "    </tr>\n",
              "    <tr>\n",
              "      <th>max</th>\n",
              "      <td>564.000000</td>\n",
              "      <td>202.000000</td>\n",
              "      <td>77.000000</td>\n",
              "      <td>200.000000</td>\n",
              "      <td>2.000000</td>\n",
              "    </tr>\n",
              "  </tbody>\n",
              "</table>\n",
              "</div>"
            ],
            "text/plain": [
              "       serum_cholesterol          hr         age  bp (mm Hg)       slope\n",
              "count         303.000000  303.000000  303.000000  303.000000  303.000000\n",
              "mean          246.264026  149.646865   54.366337  131.623762    1.399340\n",
              "std            51.830751   22.905161    9.082101   17.538143    0.616226\n",
              "min           126.000000   71.000000   29.000000   94.000000    0.000000\n",
              "25%           211.000000  133.500000   47.500000  120.000000    1.000000\n",
              "50%           240.000000  153.000000   55.000000  130.000000    1.000000\n",
              "75%           274.500000  166.000000   61.000000  140.000000    2.000000\n",
              "max           564.000000  202.000000   77.000000  200.000000    2.000000"
            ]
          },
          "metadata": {
            "tags": []
          },
          "execution_count": 95
        }
      ]
    },
    {
      "metadata": {
        "id": "Y6ECIKOvqGXT",
        "colab_type": "code",
        "outputId": "ea9df21d-e74b-4216-8735-f8dbb96b89ac",
        "colab": {
          "base_uri": "https://localhost:8080/",
          "height": 929
        }
      },
      "cell_type": "code",
      "source": [
        "\n",
        "# create a pairplot to visualize relationship between numeric features via pairplot method\n",
        "sns.pairplot(df[numeric_columns])\n",
        "plt.show()"
      ],
      "execution_count": 96,
      "outputs": [
        {
          "output_type": "display_data",
          "data": {
            "image/png": "[encoded data removed]",
            "text/plain": [
              "<Figure size 900x900 with 30 Axes>"
            ]
          },
          "metadata": {
            "tags": []
          }
        }
      ]
    },
    {
      "metadata": {
        "id": "GuNu3ZSTqKcr",
        "colab_type": "code",
        "outputId": "b5524bdf-8fae-4c7a-a2e7-53afa9a732bd",
        "colab": {
          "base_uri": "https://localhost:8080/",
          "height": 641
        }
      },
      "cell_type": "code",
      "source": [
        "\n",
        "# create four distplots\n",
        "# distplots allow both the histogram and densities in the same plot, \n",
        "# courtesy of the seaborn package \n",
        "plt.figure(figsize=(12,10))\n",
        "plt.subplot(221)\n",
        "sns.distplot(df[df['target']==0].age)\n",
        "plt.title('Age of Patients without Heart Disease')\n",
        "plt.subplot(222)\n",
        "sns.distplot(df[df['target']==1].age)\n",
        "plt.title('Age of Patients with Heart disease')\n",
        "plt.subplot(223)\n",
        "sns.distplot(df[df['target']==0].hr)\n",
        "plt.title('Max Heart Rate of Patients without Heart disease')\n",
        "plt.subplot(224)\n",
        "sns.distplot(df[df['target']==1].hr)\n",
        "plt.title('Max Heart Rate of Patients with Heart Disease')\n",
        "plt.show()"
      ],
      "execution_count": 97,
      "outputs": [
        {
          "output_type": "display_data",
          "data": {
            "image/png": "[encoded data removed]",
            "text/plain": [
              "<Figure size 864x720 with 4 Axes>"
            ]
          },
          "metadata": {
            "tags": []
          }
        }
      ]
    },
    {
      "metadata": {
        "id": "F3FVzxy2qRFD",
        "colab_type": "code",
        "outputId": "f1c9642a-b777-4196-ef4a-03ee18e64dd4",
        "colab": {
          "base_uri": "https://localhost:8080/",
          "height": 119
        }
      },
      "cell_type": "code",
      "source": [
        "# count no heart disease vs heart disease people grouped by sex\n",
        "# reminder: target 0 and 1 is no heart disease and heart disease, repectfully\n",
        "df.groupby(['sex','target'])['target'].count()"
      ],
      "execution_count": 98,
      "outputs": [
        {
          "output_type": "execute_result",
          "data": {
            "text/plain": [
              "sex  target\n",
              "0    0          24\n",
              "     1          72\n",
              "1    0         114\n",
              "     1          93\n",
              "Name: target, dtype: int64"
            ]
          },
          "metadata": {
            "tags": []
          },
          "execution_count": 98
        }
      ]
    },
    {
      "metadata": {
        "id": "AkZNQcxkqY-z",
        "colab_type": "code",
        "outputId": "5f9964ab-ea16-4b15-edd8-b4c17edc811f",
        "colab": {
          "base_uri": "https://localhost:8080/",
          "height": 300
        }
      },
      "cell_type": "code",
      "source": [
        "# create a barplot\n",
        "sns.barplot(x=\"fbs\", y=\"target\", data=df)"
      ],
      "execution_count": 99,
      "outputs": [
        {
          "output_type": "execute_result",
          "data": {
            "text/plain": [
              "<matplotlib.axes._subplots.AxesSubplot at 0x7f6fca859978>"
            ]
          },
          "metadata": {
            "tags": []
          },
          "execution_count": 99
        },
        {
          "output_type": "display_data",
          "data": {
            "image/png": "[encoded data removed]",
            "text/plain": [
              "<Figure size 432x288 with 1 Axes>"
            ]
          },
          "metadata": {
            "tags": []
          }
        }
      ]
    },
    {
      "metadata": {
        "id": "K-rUH7W1qfM8",
        "colab_type": "code",
        "outputId": "a7d5dbb3-a976-4190-d177-66cc77670867",
        "colab": {
          "base_uri": "https://localhost:8080/",
          "height": 51
        }
      },
      "cell_type": "code",
      "source": [
        "# extract the target variable\n",
        "X, y = df.iloc[:, :-1], df.iloc[:, -1]\n",
        "print(X.shape)\n",
        "print(y.shape)"
      ],
      "execution_count": 100,
      "outputs": [
        {
          "output_type": "stream",
          "text": [
            "(303, 13)\n",
            "(303,)\n"
          ],
          "name": "stdout"
        }
      ]
    },
    {
      "metadata": {
        "id": "4tu4HCySqhzC",
        "colab_type": "code",
        "outputId": "a376d768-105c-41a3-d57d-a638c08182ec",
        "colab": {
          "base_uri": "https://localhost:8080/",
          "height": 85
        }
      },
      "cell_type": "code",
      "source": [
        "\n",
        "# split the data\n",
        "X_train, X_test, y_train, y_test = train_test_split(X, y, test_size=0.3, random_state=2606)\n",
        "print (\"train_set_x shape: \" + str(X_train.shape))\n",
        "print (\"train_set_y shape: \" + str(y_train.shape))\n",
        "print (\"test_set_x shape: \" + str(X_test.shape))\n",
        "print (\"test_set_y shape: \" + str(y_test.shape))"
      ],
      "execution_count": 101,
      "outputs": [
        {
          "output_type": "stream",
          "text": [
            "train_set_x shape: (212, 13)\n",
            "train_set_y shape: (212,)\n",
            "test_set_x shape: (91, 13)\n",
            "test_set_y shape: (91,)\n"
          ],
          "name": "stdout"
        }
      ]
    },
    {
      "metadata": {
        "id": "K7q1wYeNqlGz",
        "colab_type": "code",
        "outputId": "6929a0f4-a814-468a-b35a-e5b305d5d399",
        "colab": {
          "base_uri": "https://localhost:8080/",
          "height": 139
        }
      },
      "cell_type": "code",
      "source": [
        "# scale feature matrices\n",
        "scaler = StandardScaler()\n",
        "X_train = scaler.fit_transform(X_train)\n",
        "X_test = scaler.transform(X_test)"
      ],
      "execution_count": 102,
      "outputs": [
        {
          "output_type": "stream",
          "text": [
            "/usr/local/lib/python3.6/dist-packages/sklearn/preprocessing/data.py:645: DataConversionWarning: Data with input dtype int64, float64 were all converted to float64 by StandardScaler.\n",
            "  return self.partial_fit(X, y)\n",
            "/usr/local/lib/python3.6/dist-packages/sklearn/base.py:464: DataConversionWarning: Data with input dtype int64, float64 were all converted to float64 by StandardScaler.\n",
            "  return self.fit(X, **fit_params).transform(X)\n",
            "/usr/local/lib/python3.6/dist-packages/ipykernel_launcher.py:3: DataConversionWarning: Data with input dtype int64, float64 were all converted to float64 by StandardScaler.\n",
            "  This is separate from the ipykernel package so we can avoid doing imports until\n"
          ],
          "name": "stderr"
        }
      ]
    },
    {
      "metadata": {
        "id": "CMocKRMSqpPr",
        "colab_type": "text"
      },
      "cell_type": "markdown",
      "source": [
        "# Modeling and Predicting with Neural Learning\n",
        "\n",
        "\n",
        "\n"
      ]
    },
    {
      "metadata": {
        "id": "iWtPM85tqpiE",
        "colab_type": "code",
        "colab": {}
      },
      "cell_type": "code",
      "source": [
        "\n",
        "def train_model(X_train, y_train, X_test, y_test, classifier, **kwargs):\n",
        "    \n",
        "    \n",
        "    # instantiate model\n",
        "    model = classifier(**kwargs)\n",
        "    \n",
        "    # train model\n",
        "    model.fit(X_train,y_train)\n",
        "    \n",
        "    # check accuracy and print out the results\n",
        "    fit_accuracy = model.score(X_train, y_train)\n",
        "    test_accuracy = model.score(X_test, y_test)\n",
        "    \n",
        "    print(f\"Train accuracy: {fit_accuracy:0.2%}\")\n",
        "    print(f\"Test accuracy: {test_accuracy:0.2%}\")\n",
        "    \n",
        "    return model"
      ],
      "execution_count": 0,
      "outputs": []
    },
    {
      "metadata": {
        "id": "DRibPBddsThW",
        "colab_type": "text"
      },
      "cell_type": "markdown",
      "source": [
        "## **Create a neural network model with 12 neurons in layer 1, 8 neurons in layer 2, and 1 neuron as the last layer**"
      ]
    },
    {
      "metadata": {
        "id": "iNFrlg7qwXzp",
        "colab_type": "code",
        "colab": {
          "base_uri": "https://localhost:8080/",
          "height": 255
        },
        "outputId": "23b4d246-c20c-437e-880e-d4ccff08e58c"
      },
      "cell_type": "code",
      "source": [
        "model = Sequential()\n",
        "model.add(Dense(12, input_dim=12, activation='sigmoid'))\n",
        "model.add(Dense(8, activation='sigmoid'))\n",
        "model.add(Dense(1, activation='linear'))\n",
        "print(model.summary())"
      ],
      "execution_count": 104,
      "outputs": [
        {
          "output_type": "stream",
          "text": [
            "_________________________________________________________________\n",
            "Layer (type)                 Output Shape              Param #   \n",
            "=================================================================\n",
            "dense_13 (Dense)             (None, 12)                156       \n",
            "_________________________________________________________________\n",
            "dense_14 (Dense)             (None, 8)                 104       \n",
            "_________________________________________________________________\n",
            "dense_15 (Dense)             (None, 1)                 9         \n",
            "=================================================================\n",
            "Total params: 269\n",
            "Trainable params: 269\n",
            "Non-trainable params: 0\n",
            "_________________________________________________________________\n",
            "None\n"
          ],
          "name": "stdout"
        }
      ]
    },
    {
      "metadata": {
        "id": "18HnDslesMQV",
        "colab_type": "text"
      },
      "cell_type": "markdown",
      "source": [
        "## **Check for proper neural connections by compiling the model**"
      ]
    },
    {
      "metadata": {
        "id": "yumqNlJzwkE4",
        "colab_type": "code",
        "colab": {}
      },
      "cell_type": "code",
      "source": [
        "model.compile(loss='mse', optimizer='adam', metrics=['mse']) # mse = mean squared error"
      ],
      "execution_count": 0,
      "outputs": []
    },
    {
      "metadata": {
        "id": "T9K_1fHVNKEv",
        "colab_type": "code",
        "colab": {}
      },
      "cell_type": "code",
      "source": [
        "#model.compile(loss='mse', optimizer='sgd', metrics=['mae'])"
      ],
      "execution_count": 0,
      "outputs": []
    },
    {
      "metadata": {
        "id": "6nc3M956rhUi",
        "colab_type": "text"
      },
      "cell_type": "markdown",
      "source": [
        "## **Performing the Training (i.e. Fitting the Model)**\n",
        "\n",
        "- feed x-train into model & model calculators errors using y-train\n",
        "- In one epoch the model scans through the entire rows in the x-train\n",
        "- Updating the number of epochs usually increases the accuracy of the model\n",
        "- To observe the accuracy on the validation data during the training, add \", validation_data = (x-test, y-test)\"\"\n",
        "\n",
        "Note: adapted from https://github.com/badriadhikari/2019-Spring-DL/blob/master/course_content/module1_intro2ML/06_NNs_for_Regression.ipynb"
      ]
    },
    {
      "metadata": {
        "id": "GEUlWiQ7wr_3",
        "colab_type": "code",
        "colab": {
          "base_uri": "https://localhost:8080/",
          "height": 8741
        },
        "outputId": "139d9a27-6fa8-455b-b070-df77347a01b7"
      },
      "cell_type": "code",
      "source": [
        "history = model.fit(x_train, y_train, epochs=256, batch_size=32)\n"
      ],
      "execution_count": 107,
      "outputs": [
        {
          "output_type": "stream",
          "text": [
            "Epoch 1/256\n",
            "212/212 [==============================] - 0s 1ms/step - loss: 0.2621 - mean_squared_error: 0.2621\n",
            "Epoch 2/256\n",
            "212/212 [==============================] - 0s 51us/step - loss: 0.2556 - mean_squared_error: 0.2556\n",
            "Epoch 3/256\n",
            "212/212 [==============================] - 0s 55us/step - loss: 0.2538 - mean_squared_error: 0.2538\n",
            "Epoch 4/256\n",
            "212/212 [==============================] - 0s 57us/step - loss: 0.2531 - mean_squared_error: 0.2531\n",
            "Epoch 5/256\n",
            "212/212 [==============================] - 0s 54us/step - loss: 0.2525 - mean_squared_error: 0.2525\n",
            "Epoch 6/256\n",
            "212/212 [==============================] - 0s 64us/step - loss: 0.2517 - mean_squared_error: 0.2517\n",
            "Epoch 7/256\n",
            "212/212 [==============================] - 0s 62us/step - loss: 0.2509 - mean_squared_error: 0.2509\n",
            "Epoch 8/256\n",
            "212/212 [==============================] - 0s 55us/step - loss: 0.2505 - mean_squared_error: 0.2505\n",
            "Epoch 9/256\n",
            "212/212 [==============================] - 0s 58us/step - loss: 0.2499 - mean_squared_error: 0.2499\n",
            "Epoch 10/256\n",
            "212/212 [==============================] - 0s 67us/step - loss: 0.2495 - mean_squared_error: 0.2495\n",
            "Epoch 11/256\n",
            "212/212 [==============================] - 0s 56us/step - loss: 0.2489 - mean_squared_error: 0.2489\n",
            "Epoch 12/256\n",
            "212/212 [==============================] - 0s 65us/step - loss: 0.2485 - mean_squared_error: 0.2485\n",
            "Epoch 13/256\n",
            "212/212 [==============================] - 0s 61us/step - loss: 0.2484 - mean_squared_error: 0.2484\n",
            "Epoch 14/256\n",
            "212/212 [==============================] - 0s 48us/step - loss: 0.2477 - mean_squared_error: 0.2477\n",
            "Epoch 15/256\n",
            "212/212 [==============================] - 0s 55us/step - loss: 0.2473 - mean_squared_error: 0.2473\n",
            "Epoch 16/256\n",
            "212/212 [==============================] - 0s 52us/step - loss: 0.2471 - mean_squared_error: 0.2471\n",
            "Epoch 17/256\n",
            "212/212 [==============================] - 0s 59us/step - loss: 0.2466 - mean_squared_error: 0.2466\n",
            "Epoch 18/256\n",
            "212/212 [==============================] - 0s 53us/step - loss: 0.2465 - mean_squared_error: 0.2465\n",
            "Epoch 19/256\n",
            "212/212 [==============================] - 0s 64us/step - loss: 0.2460 - mean_squared_error: 0.2460\n",
            "Epoch 20/256\n",
            "212/212 [==============================] - 0s 61us/step - loss: 0.2457 - mean_squared_error: 0.2457\n",
            "Epoch 21/256\n",
            "212/212 [==============================] - 0s 56us/step - loss: 0.2457 - mean_squared_error: 0.2457\n",
            "Epoch 22/256\n",
            "212/212 [==============================] - 0s 54us/step - loss: 0.2455 - mean_squared_error: 0.2455\n",
            "Epoch 23/256\n",
            "212/212 [==============================] - 0s 55us/step - loss: 0.2449 - mean_squared_error: 0.2449\n",
            "Epoch 24/256\n",
            "212/212 [==============================] - 0s 61us/step - loss: 0.2445 - mean_squared_error: 0.2445\n",
            "Epoch 25/256\n",
            "212/212 [==============================] - 0s 47us/step - loss: 0.2440 - mean_squared_error: 0.2440\n",
            "Epoch 26/256\n",
            "212/212 [==============================] - 0s 55us/step - loss: 0.2438 - mean_squared_error: 0.2438\n",
            "Epoch 27/256\n",
            "212/212 [==============================] - 0s 54us/step - loss: 0.2437 - mean_squared_error: 0.2437\n",
            "Epoch 28/256\n",
            "212/212 [==============================] - 0s 55us/step - loss: 0.2434 - mean_squared_error: 0.2434\n",
            "Epoch 29/256\n",
            "212/212 [==============================] - 0s 59us/step - loss: 0.2430 - mean_squared_error: 0.2430\n",
            "Epoch 30/256\n",
            "212/212 [==============================] - 0s 101us/step - loss: 0.2432 - mean_squared_error: 0.2432\n",
            "Epoch 31/256\n",
            "212/212 [==============================] - 0s 69us/step - loss: 0.2426 - mean_squared_error: 0.2426\n",
            "Epoch 32/256\n",
            "212/212 [==============================] - 0s 64us/step - loss: 0.2422 - mean_squared_error: 0.2422\n",
            "Epoch 33/256\n",
            "212/212 [==============================] - 0s 56us/step - loss: 0.2420 - mean_squared_error: 0.2420\n",
            "Epoch 34/256\n",
            "212/212 [==============================] - 0s 60us/step - loss: 0.2419 - mean_squared_error: 0.2419\n",
            "Epoch 35/256\n",
            "212/212 [==============================] - 0s 57us/step - loss: 0.2416 - mean_squared_error: 0.2416\n",
            "Epoch 36/256\n",
            "212/212 [==============================] - 0s 60us/step - loss: 0.2414 - mean_squared_error: 0.2414\n",
            "Epoch 37/256\n",
            "212/212 [==============================] - 0s 57us/step - loss: 0.2411 - mean_squared_error: 0.2411\n",
            "Epoch 38/256\n",
            "212/212 [==============================] - 0s 57us/step - loss: 0.2410 - mean_squared_error: 0.2410\n",
            "Epoch 39/256\n",
            "212/212 [==============================] - 0s 58us/step - loss: 0.2408 - mean_squared_error: 0.2408\n",
            "Epoch 40/256\n",
            "212/212 [==============================] - 0s 58us/step - loss: 0.2407 - mean_squared_error: 0.2407\n",
            "Epoch 41/256\n",
            "212/212 [==============================] - 0s 61us/step - loss: 0.2404 - mean_squared_error: 0.2404\n",
            "Epoch 42/256\n",
            "212/212 [==============================] - 0s 62us/step - loss: 0.2402 - mean_squared_error: 0.2402\n",
            "Epoch 43/256\n",
            "212/212 [==============================] - 0s 58us/step - loss: 0.2400 - mean_squared_error: 0.2400\n",
            "Epoch 44/256\n",
            "212/212 [==============================] - 0s 58us/step - loss: 0.2397 - mean_squared_error: 0.2397\n",
            "Epoch 45/256\n",
            "212/212 [==============================] - 0s 53us/step - loss: 0.2396 - mean_squared_error: 0.2396\n",
            "Epoch 46/256\n",
            "212/212 [==============================] - 0s 73us/step - loss: 0.2394 - mean_squared_error: 0.2394\n",
            "Epoch 47/256\n",
            "212/212 [==============================] - 0s 70us/step - loss: 0.2392 - mean_squared_error: 0.2392\n",
            "Epoch 48/256\n",
            "212/212 [==============================] - 0s 58us/step - loss: 0.2391 - mean_squared_error: 0.2391\n",
            "Epoch 49/256\n",
            "212/212 [==============================] - 0s 53us/step - loss: 0.2389 - mean_squared_error: 0.2389\n",
            "Epoch 50/256\n",
            "212/212 [==============================] - 0s 54us/step - loss: 0.2388 - mean_squared_error: 0.2388\n",
            "Epoch 51/256\n",
            "212/212 [==============================] - 0s 54us/step - loss: 0.2385 - mean_squared_error: 0.2385\n",
            "Epoch 52/256\n",
            "212/212 [==============================] - 0s 67us/step - loss: 0.2383 - mean_squared_error: 0.2383\n",
            "Epoch 53/256\n",
            "212/212 [==============================] - 0s 54us/step - loss: 0.2381 - mean_squared_error: 0.2381\n",
            "Epoch 54/256\n",
            "212/212 [==============================] - 0s 60us/step - loss: 0.2379 - mean_squared_error: 0.2379\n",
            "Epoch 55/256\n",
            "212/212 [==============================] - 0s 64us/step - loss: 0.2378 - mean_squared_error: 0.2378\n",
            "Epoch 56/256\n",
            "212/212 [==============================] - 0s 62us/step - loss: 0.2378 - mean_squared_error: 0.2378\n",
            "Epoch 57/256\n",
            "212/212 [==============================] - 0s 57us/step - loss: 0.2375 - mean_squared_error: 0.2375\n",
            "Epoch 58/256\n",
            "212/212 [==============================] - 0s 56us/step - loss: 0.2374 - mean_squared_error: 0.2374\n",
            "Epoch 59/256\n",
            "212/212 [==============================] - 0s 49us/step - loss: 0.2373 - mean_squared_error: 0.2373\n",
            "Epoch 60/256\n",
            "212/212 [==============================] - 0s 61us/step - loss: 0.2370 - mean_squared_error: 0.2370\n",
            "Epoch 61/256\n",
            "212/212 [==============================] - 0s 67us/step - loss: 0.2368 - mean_squared_error: 0.2368\n",
            "Epoch 62/256\n",
            "212/212 [==============================] - 0s 64us/step - loss: 0.2367 - mean_squared_error: 0.2367\n",
            "Epoch 63/256\n",
            "212/212 [==============================] - 0s 66us/step - loss: 0.2367 - mean_squared_error: 0.2367\n",
            "Epoch 64/256\n",
            "212/212 [==============================] - 0s 70us/step - loss: 0.2366 - mean_squared_error: 0.2366\n",
            "Epoch 65/256\n",
            "212/212 [==============================] - 0s 50us/step - loss: 0.2363 - mean_squared_error: 0.2363\n",
            "Epoch 66/256\n",
            "212/212 [==============================] - 0s 58us/step - loss: 0.2360 - mean_squared_error: 0.2360\n",
            "Epoch 67/256\n",
            "212/212 [==============================] - 0s 60us/step - loss: 0.2361 - mean_squared_error: 0.2361\n",
            "Epoch 68/256\n",
            "212/212 [==============================] - 0s 61us/step - loss: 0.2358 - mean_squared_error: 0.2358\n",
            "Epoch 69/256\n",
            "212/212 [==============================] - 0s 66us/step - loss: 0.2359 - mean_squared_error: 0.2359\n",
            "Epoch 70/256\n",
            "212/212 [==============================] - 0s 66us/step - loss: 0.2357 - mean_squared_error: 0.2357\n",
            "Epoch 71/256\n",
            "212/212 [==============================] - 0s 61us/step - loss: 0.2355 - mean_squared_error: 0.2355\n",
            "Epoch 72/256\n",
            "212/212 [==============================] - 0s 70us/step - loss: 0.2354 - mean_squared_error: 0.2354\n",
            "Epoch 73/256\n",
            "212/212 [==============================] - 0s 68us/step - loss: 0.2353 - mean_squared_error: 0.2353\n",
            "Epoch 74/256\n",
            "212/212 [==============================] - 0s 61us/step - loss: 0.2351 - mean_squared_error: 0.2351\n",
            "Epoch 75/256\n",
            "212/212 [==============================] - 0s 59us/step - loss: 0.2351 - mean_squared_error: 0.2351\n",
            "Epoch 76/256\n",
            "212/212 [==============================] - 0s 59us/step - loss: 0.2357 - mean_squared_error: 0.2357\n",
            "Epoch 77/256\n",
            "212/212 [==============================] - 0s 58us/step - loss: 0.2347 - mean_squared_error: 0.2347\n",
            "Epoch 78/256\n",
            "212/212 [==============================] - 0s 53us/step - loss: 0.2348 - mean_squared_error: 0.2348\n",
            "Epoch 79/256\n",
            "212/212 [==============================] - 0s 63us/step - loss: 0.2350 - mean_squared_error: 0.2350\n",
            "Epoch 80/256\n",
            "212/212 [==============================] - 0s 48us/step - loss: 0.2344 - mean_squared_error: 0.2344\n",
            "Epoch 81/256\n",
            "212/212 [==============================] - 0s 52us/step - loss: 0.2343 - mean_squared_error: 0.2343\n",
            "Epoch 82/256\n",
            "212/212 [==============================] - 0s 66us/step - loss: 0.2341 - mean_squared_error: 0.2341\n",
            "Epoch 83/256\n",
            "212/212 [==============================] - 0s 102us/step - loss: 0.2340 - mean_squared_error: 0.2340\n",
            "Epoch 84/256\n",
            "212/212 [==============================] - 0s 91us/step - loss: 0.2339 - mean_squared_error: 0.2339\n",
            "Epoch 85/256\n",
            "212/212 [==============================] - 0s 66us/step - loss: 0.2338 - mean_squared_error: 0.2338\n",
            "Epoch 86/256\n",
            "212/212 [==============================] - 0s 57us/step - loss: 0.2337 - mean_squared_error: 0.2337\n",
            "Epoch 87/256\n",
            "212/212 [==============================] - 0s 65us/step - loss: 0.2335 - mean_squared_error: 0.2335\n",
            "Epoch 88/256\n",
            "212/212 [==============================] - 0s 59us/step - loss: 0.2335 - mean_squared_error: 0.2335\n",
            "Epoch 89/256\n",
            "212/212 [==============================] - 0s 58us/step - loss: 0.2334 - mean_squared_error: 0.2334\n",
            "Epoch 90/256\n",
            "212/212 [==============================] - 0s 59us/step - loss: 0.2334 - mean_squared_error: 0.2334\n",
            "Epoch 91/256\n",
            "212/212 [==============================] - 0s 57us/step - loss: 0.2332 - mean_squared_error: 0.2332\n",
            "Epoch 92/256\n",
            "212/212 [==============================] - 0s 56us/step - loss: 0.2332 - mean_squared_error: 0.2332\n",
            "Epoch 93/256\n",
            "212/212 [==============================] - 0s 54us/step - loss: 0.2331 - mean_squared_error: 0.2331\n",
            "Epoch 94/256\n",
            "212/212 [==============================] - 0s 57us/step - loss: 0.2336 - mean_squared_error: 0.2336\n",
            "Epoch 95/256\n",
            "212/212 [==============================] - 0s 61us/step - loss: 0.2330 - mean_squared_error: 0.2330\n",
            "Epoch 96/256\n",
            "212/212 [==============================] - 0s 55us/step - loss: 0.2324 - mean_squared_error: 0.2324\n",
            "Epoch 97/256\n",
            "212/212 [==============================] - 0s 57us/step - loss: 0.2326 - mean_squared_error: 0.2326\n",
            "Epoch 98/256\n",
            "212/212 [==============================] - 0s 66us/step - loss: 0.2329 - mean_squared_error: 0.2329\n",
            "Epoch 99/256\n",
            "212/212 [==============================] - 0s 56us/step - loss: 0.2328 - mean_squared_error: 0.2328\n",
            "Epoch 100/256\n",
            "212/212 [==============================] - 0s 57us/step - loss: 0.2326 - mean_squared_error: 0.2326\n",
            "Epoch 101/256\n",
            "212/212 [==============================] - 0s 59us/step - loss: 0.2323 - mean_squared_error: 0.2323\n",
            "Epoch 102/256\n",
            "212/212 [==============================] - 0s 54us/step - loss: 0.2321 - mean_squared_error: 0.2321\n",
            "Epoch 103/256\n",
            "212/212 [==============================] - 0s 70us/step - loss: 0.2322 - mean_squared_error: 0.2322\n",
            "Epoch 104/256\n",
            "212/212 [==============================] - 0s 61us/step - loss: 0.2321 - mean_squared_error: 0.2321\n",
            "Epoch 105/256\n",
            "212/212 [==============================] - 0s 60us/step - loss: 0.2322 - mean_squared_error: 0.2322\n",
            "Epoch 106/256\n",
            "212/212 [==============================] - 0s 56us/step - loss: 0.2318 - mean_squared_error: 0.2318\n",
            "Epoch 107/256\n",
            "212/212 [==============================] - 0s 52us/step - loss: 0.2320 - mean_squared_error: 0.2320\n",
            "Epoch 108/256\n",
            "212/212 [==============================] - 0s 57us/step - loss: 0.2319 - mean_squared_error: 0.2319\n",
            "Epoch 109/256\n",
            "212/212 [==============================] - 0s 60us/step - loss: 0.2317 - mean_squared_error: 0.2317\n",
            "Epoch 110/256\n",
            "212/212 [==============================] - 0s 55us/step - loss: 0.2327 - mean_squared_error: 0.2327\n",
            "Epoch 111/256\n",
            "212/212 [==============================] - 0s 68us/step - loss: 0.2314 - mean_squared_error: 0.2314\n",
            "Epoch 112/256\n",
            "212/212 [==============================] - 0s 55us/step - loss: 0.2319 - mean_squared_error: 0.2319\n",
            "Epoch 113/256\n",
            "212/212 [==============================] - 0s 58us/step - loss: 0.2314 - mean_squared_error: 0.2314\n",
            "Epoch 114/256\n",
            "212/212 [==============================] - 0s 60us/step - loss: 0.2315 - mean_squared_error: 0.2315\n",
            "Epoch 115/256\n",
            "212/212 [==============================] - 0s 57us/step - loss: 0.2314 - mean_squared_error: 0.2314\n",
            "Epoch 116/256\n",
            "212/212 [==============================] - 0s 60us/step - loss: 0.2312 - mean_squared_error: 0.2312\n",
            "Epoch 117/256\n",
            "212/212 [==============================] - 0s 61us/step - loss: 0.2310 - mean_squared_error: 0.2310\n",
            "Epoch 118/256\n",
            "212/212 [==============================] - 0s 57us/step - loss: 0.2313 - mean_squared_error: 0.2313\n",
            "Epoch 119/256\n",
            "212/212 [==============================] - 0s 55us/step - loss: 0.2309 - mean_squared_error: 0.2309\n",
            "Epoch 120/256\n",
            "212/212 [==============================] - 0s 55us/step - loss: 0.2310 - mean_squared_error: 0.2310\n",
            "Epoch 121/256\n",
            "212/212 [==============================] - 0s 67us/step - loss: 0.2308 - mean_squared_error: 0.2308\n",
            "Epoch 122/256\n",
            "212/212 [==============================] - 0s 55us/step - loss: 0.2308 - mean_squared_error: 0.2308\n",
            "Epoch 123/256\n",
            "212/212 [==============================] - 0s 55us/step - loss: 0.2306 - mean_squared_error: 0.2306\n",
            "Epoch 124/256\n",
            "212/212 [==============================] - 0s 59us/step - loss: 0.2306 - mean_squared_error: 0.2306\n",
            "Epoch 125/256\n",
            "212/212 [==============================] - 0s 59us/step - loss: 0.2307 - mean_squared_error: 0.2307\n",
            "Epoch 126/256\n",
            "212/212 [==============================] - 0s 63us/step - loss: 0.2305 - mean_squared_error: 0.2305\n",
            "Epoch 127/256\n",
            "212/212 [==============================] - 0s 61us/step - loss: 0.2305 - mean_squared_error: 0.2305\n",
            "Epoch 128/256\n",
            "212/212 [==============================] - 0s 56us/step - loss: 0.2304 - mean_squared_error: 0.2304\n",
            "Epoch 129/256\n",
            "212/212 [==============================] - 0s 56us/step - loss: 0.2303 - mean_squared_error: 0.2303\n",
            "Epoch 130/256\n",
            "212/212 [==============================] - 0s 54us/step - loss: 0.2302 - mean_squared_error: 0.2302\n",
            "Epoch 131/256\n",
            "212/212 [==============================] - 0s 55us/step - loss: 0.2301 - mean_squared_error: 0.2301\n",
            "Epoch 132/256\n",
            "212/212 [==============================] - 0s 66us/step - loss: 0.2301 - mean_squared_error: 0.2301\n",
            "Epoch 133/256\n",
            "212/212 [==============================] - 0s 57us/step - loss: 0.2304 - mean_squared_error: 0.2304\n",
            "Epoch 134/256\n",
            "212/212 [==============================] - 0s 58us/step - loss: 0.2299 - mean_squared_error: 0.2299\n",
            "Epoch 135/256\n",
            "212/212 [==============================] - 0s 48us/step - loss: 0.2298 - mean_squared_error: 0.2298\n",
            "Epoch 136/256\n",
            "212/212 [==============================] - 0s 51us/step - loss: 0.2297 - mean_squared_error: 0.2297\n",
            "Epoch 137/256\n",
            "212/212 [==============================] - 0s 55us/step - loss: 0.2298 - mean_squared_error: 0.2298\n",
            "Epoch 138/256\n",
            "212/212 [==============================] - 0s 57us/step - loss: 0.2295 - mean_squared_error: 0.2295\n",
            "Epoch 139/256\n",
            "212/212 [==============================] - 0s 53us/step - loss: 0.2296 - mean_squared_error: 0.2296\n",
            "Epoch 140/256\n",
            "212/212 [==============================] - 0s 53us/step - loss: 0.2294 - mean_squared_error: 0.2294\n",
            "Epoch 141/256\n",
            "212/212 [==============================] - 0s 66us/step - loss: 0.2295 - mean_squared_error: 0.2295\n",
            "Epoch 142/256\n",
            "212/212 [==============================] - 0s 64us/step - loss: 0.2293 - mean_squared_error: 0.2293\n",
            "Epoch 143/256\n",
            "212/212 [==============================] - 0s 66us/step - loss: 0.2293 - mean_squared_error: 0.2293\n",
            "Epoch 144/256\n",
            "212/212 [==============================] - 0s 56us/step - loss: 0.2291 - mean_squared_error: 0.2291\n",
            "Epoch 145/256\n",
            "212/212 [==============================] - 0s 55us/step - loss: 0.2291 - mean_squared_error: 0.2291\n",
            "Epoch 146/256\n",
            "212/212 [==============================] - 0s 56us/step - loss: 0.2291 - mean_squared_error: 0.2291\n",
            "Epoch 147/256\n",
            "212/212 [==============================] - 0s 63us/step - loss: 0.2293 - mean_squared_error: 0.2293\n",
            "Epoch 148/256\n",
            "212/212 [==============================] - 0s 51us/step - loss: 0.2288 - mean_squared_error: 0.2288\n",
            "Epoch 149/256\n",
            "212/212 [==============================] - 0s 57us/step - loss: 0.2289 - mean_squared_error: 0.2289\n",
            "Epoch 150/256\n",
            "212/212 [==============================] - 0s 57us/step - loss: 0.2290 - mean_squared_error: 0.2290\n",
            "Epoch 151/256\n",
            "212/212 [==============================] - 0s 53us/step - loss: 0.2289 - mean_squared_error: 0.2289\n",
            "Epoch 152/256\n",
            "212/212 [==============================] - 0s 59us/step - loss: 0.2286 - mean_squared_error: 0.2286\n",
            "Epoch 153/256\n",
            "212/212 [==============================] - 0s 59us/step - loss: 0.2285 - mean_squared_error: 0.2285\n",
            "Epoch 154/256\n",
            "212/212 [==============================] - 0s 60us/step - loss: 0.2286 - mean_squared_error: 0.2286\n",
            "Epoch 155/256\n",
            "212/212 [==============================] - 0s 61us/step - loss: 0.2284 - mean_squared_error: 0.2284\n",
            "Epoch 156/256\n",
            "212/212 [==============================] - 0s 63us/step - loss: 0.2283 - mean_squared_error: 0.2283\n",
            "Epoch 157/256\n",
            "212/212 [==============================] - 0s 65us/step - loss: 0.2282 - mean_squared_error: 0.2282\n",
            "Epoch 158/256\n",
            "212/212 [==============================] - 0s 76us/step - loss: 0.2281 - mean_squared_error: 0.2281\n",
            "Epoch 159/256\n",
            "212/212 [==============================] - 0s 69us/step - loss: 0.2281 - mean_squared_error: 0.2281\n",
            "Epoch 160/256\n",
            "212/212 [==============================] - 0s 83us/step - loss: 0.2281 - mean_squared_error: 0.2281\n",
            "Epoch 161/256\n",
            "212/212 [==============================] - 0s 57us/step - loss: 0.2280 - mean_squared_error: 0.2280\n",
            "Epoch 162/256\n",
            "212/212 [==============================] - 0s 49us/step - loss: 0.2279 - mean_squared_error: 0.2279\n",
            "Epoch 163/256\n",
            "212/212 [==============================] - 0s 54us/step - loss: 0.2278 - mean_squared_error: 0.2278\n",
            "Epoch 164/256\n",
            "212/212 [==============================] - 0s 63us/step - loss: 0.2278 - mean_squared_error: 0.2278\n",
            "Epoch 165/256\n",
            "212/212 [==============================] - 0s 58us/step - loss: 0.2276 - mean_squared_error: 0.2276\n",
            "Epoch 166/256\n",
            "212/212 [==============================] - 0s 56us/step - loss: 0.2275 - mean_squared_error: 0.2275\n",
            "Epoch 167/256\n",
            "212/212 [==============================] - 0s 69us/step - loss: 0.2277 - mean_squared_error: 0.2277\n",
            "Epoch 168/256\n",
            "212/212 [==============================] - 0s 61us/step - loss: 0.2275 - mean_squared_error: 0.2275\n",
            "Epoch 169/256\n",
            "212/212 [==============================] - 0s 60us/step - loss: 0.2274 - mean_squared_error: 0.2274\n",
            "Epoch 170/256\n",
            "212/212 [==============================] - 0s 56us/step - loss: 0.2273 - mean_squared_error: 0.2273\n",
            "Epoch 171/256\n",
            "212/212 [==============================] - 0s 57us/step - loss: 0.2272 - mean_squared_error: 0.2272\n",
            "Epoch 172/256\n",
            "212/212 [==============================] - 0s 56us/step - loss: 0.2272 - mean_squared_error: 0.2272\n",
            "Epoch 173/256\n",
            "212/212 [==============================] - 0s 58us/step - loss: 0.2271 - mean_squared_error: 0.2271\n",
            "Epoch 174/256\n",
            "212/212 [==============================] - 0s 63us/step - loss: 0.2271 - mean_squared_error: 0.2271\n",
            "Epoch 175/256\n",
            "212/212 [==============================] - 0s 58us/step - loss: 0.2269 - mean_squared_error: 0.2269\n",
            "Epoch 176/256\n",
            "212/212 [==============================] - 0s 69us/step - loss: 0.2269 - mean_squared_error: 0.2269\n",
            "Epoch 177/256\n",
            "212/212 [==============================] - 0s 63us/step - loss: 0.2267 - mean_squared_error: 0.2267\n",
            "Epoch 178/256\n",
            "212/212 [==============================] - 0s 53us/step - loss: 0.2268 - mean_squared_error: 0.2268\n",
            "Epoch 179/256\n",
            "212/212 [==============================] - 0s 53us/step - loss: 0.2271 - mean_squared_error: 0.2271\n",
            "Epoch 180/256\n",
            "212/212 [==============================] - 0s 53us/step - loss: 0.2266 - mean_squared_error: 0.2266\n",
            "Epoch 181/256\n",
            "212/212 [==============================] - 0s 61us/step - loss: 0.2265 - mean_squared_error: 0.2265\n",
            "Epoch 182/256\n",
            "212/212 [==============================] - 0s 65us/step - loss: 0.2264 - mean_squared_error: 0.2264\n",
            "Epoch 183/256\n",
            "212/212 [==============================] - 0s 70us/step - loss: 0.2263 - mean_squared_error: 0.2263\n",
            "Epoch 184/256\n",
            "212/212 [==============================] - 0s 60us/step - loss: 0.2263 - mean_squared_error: 0.2263\n",
            "Epoch 185/256\n",
            "212/212 [==============================] - 0s 64us/step - loss: 0.2262 - mean_squared_error: 0.2262\n",
            "Epoch 186/256\n",
            "212/212 [==============================] - 0s 67us/step - loss: 0.2262 - mean_squared_error: 0.2262\n",
            "Epoch 187/256\n",
            "212/212 [==============================] - 0s 56us/step - loss: 0.2261 - mean_squared_error: 0.2261\n",
            "Epoch 188/256\n",
            "212/212 [==============================] - 0s 58us/step - loss: 0.2262 - mean_squared_error: 0.2262\n",
            "Epoch 189/256\n",
            "212/212 [==============================] - 0s 66us/step - loss: 0.2261 - mean_squared_error: 0.2261\n",
            "Epoch 190/256\n",
            "212/212 [==============================] - 0s 57us/step - loss: 0.2259 - mean_squared_error: 0.2259\n",
            "Epoch 191/256\n",
            "212/212 [==============================] - 0s 57us/step - loss: 0.2259 - mean_squared_error: 0.2259\n",
            "Epoch 192/256\n",
            "212/212 [==============================] - 0s 63us/step - loss: 0.2256 - mean_squared_error: 0.2256\n",
            "Epoch 193/256\n",
            "212/212 [==============================] - 0s 57us/step - loss: 0.2256 - mean_squared_error: 0.2256\n",
            "Epoch 194/256\n",
            "212/212 [==============================] - 0s 59us/step - loss: 0.2253 - mean_squared_error: 0.2253\n",
            "Epoch 195/256\n",
            "212/212 [==============================] - 0s 66us/step - loss: 0.2252 - mean_squared_error: 0.2252\n",
            "Epoch 196/256\n",
            "212/212 [==============================] - 0s 52us/step - loss: 0.2253 - mean_squared_error: 0.2253\n",
            "Epoch 197/256\n",
            "212/212 [==============================] - 0s 54us/step - loss: 0.2257 - mean_squared_error: 0.2257\n",
            "Epoch 198/256\n",
            "212/212 [==============================] - 0s 60us/step - loss: 0.2251 - mean_squared_error: 0.2251\n",
            "Epoch 199/256\n",
            "212/212 [==============================] - 0s 65us/step - loss: 0.2251 - mean_squared_error: 0.2251\n",
            "Epoch 200/256\n",
            "212/212 [==============================] - 0s 60us/step - loss: 0.2249 - mean_squared_error: 0.2249\n",
            "Epoch 201/256\n",
            "212/212 [==============================] - 0s 84us/step - loss: 0.2248 - mean_squared_error: 0.2248\n",
            "Epoch 202/256\n",
            "212/212 [==============================] - 0s 65us/step - loss: 0.2248 - mean_squared_error: 0.2248\n",
            "Epoch 203/256\n",
            "212/212 [==============================] - 0s 53us/step - loss: 0.2253 - mean_squared_error: 0.2253\n",
            "Epoch 204/256\n",
            "212/212 [==============================] - 0s 59us/step - loss: 0.2249 - mean_squared_error: 0.2249\n",
            "Epoch 205/256\n",
            "212/212 [==============================] - 0s 60us/step - loss: 0.2245 - mean_squared_error: 0.2245\n",
            "Epoch 206/256\n",
            "212/212 [==============================] - 0s 60us/step - loss: 0.2247 - mean_squared_error: 0.2247\n",
            "Epoch 207/256\n",
            "212/212 [==============================] - 0s 57us/step - loss: 0.2245 - mean_squared_error: 0.2245\n",
            "Epoch 208/256\n",
            "212/212 [==============================] - 0s 55us/step - loss: 0.2243 - mean_squared_error: 0.2243\n",
            "Epoch 209/256\n",
            "212/212 [==============================] - 0s 57us/step - loss: 0.2243 - mean_squared_error: 0.2243\n",
            "Epoch 210/256\n",
            "212/212 [==============================] - 0s 52us/step - loss: 0.2242 - mean_squared_error: 0.2242\n",
            "Epoch 211/256\n",
            "212/212 [==============================] - 0s 53us/step - loss: 0.2239 - mean_squared_error: 0.2239\n",
            "Epoch 212/256\n",
            "212/212 [==============================] - 0s 50us/step - loss: 0.2238 - mean_squared_error: 0.2238\n",
            "Epoch 213/256\n",
            "212/212 [==============================] - 0s 60us/step - loss: 0.2238 - mean_squared_error: 0.2238\n",
            "Epoch 214/256\n",
            "212/212 [==============================] - 0s 55us/step - loss: 0.2238 - mean_squared_error: 0.2238\n",
            "Epoch 215/256\n",
            "212/212 [==============================] - 0s 65us/step - loss: 0.2236 - mean_squared_error: 0.2236\n",
            "Epoch 216/256\n",
            "212/212 [==============================] - 0s 79us/step - loss: 0.2237 - mean_squared_error: 0.2237\n",
            "Epoch 217/256\n",
            "212/212 [==============================] - 0s 58us/step - loss: 0.2235 - mean_squared_error: 0.2235\n",
            "Epoch 218/256\n",
            "212/212 [==============================] - 0s 71us/step - loss: 0.2233 - mean_squared_error: 0.2233\n",
            "Epoch 219/256\n",
            "212/212 [==============================] - 0s 65us/step - loss: 0.2233 - mean_squared_error: 0.2233\n",
            "Epoch 220/256\n",
            "212/212 [==============================] - 0s 61us/step - loss: 0.2231 - mean_squared_error: 0.2231\n",
            "Epoch 221/256\n",
            "212/212 [==============================] - 0s 60us/step - loss: 0.2230 - mean_squared_error: 0.2230\n",
            "Epoch 222/256\n",
            "212/212 [==============================] - 0s 61us/step - loss: 0.2230 - mean_squared_error: 0.2230\n",
            "Epoch 223/256\n",
            "212/212 [==============================] - 0s 57us/step - loss: 0.2229 - mean_squared_error: 0.2229\n",
            "Epoch 224/256\n",
            "212/212 [==============================] - 0s 58us/step - loss: 0.2227 - mean_squared_error: 0.2227\n",
            "Epoch 225/256\n",
            "212/212 [==============================] - 0s 60us/step - loss: 0.2227 - mean_squared_error: 0.2227\n",
            "Epoch 226/256\n",
            "212/212 [==============================] - 0s 68us/step - loss: 0.2226 - mean_squared_error: 0.2226\n",
            "Epoch 227/256\n",
            "212/212 [==============================] - 0s 61us/step - loss: 0.2226 - mean_squared_error: 0.2226\n",
            "Epoch 228/256\n",
            "212/212 [==============================] - 0s 58us/step - loss: 0.2224 - mean_squared_error: 0.2224\n",
            "Epoch 229/256\n",
            "212/212 [==============================] - 0s 85us/step - loss: 0.2224 - mean_squared_error: 0.2224\n",
            "Epoch 230/256\n",
            "212/212 [==============================] - 0s 68us/step - loss: 0.2222 - mean_squared_error: 0.2222\n",
            "Epoch 231/256\n",
            "212/212 [==============================] - 0s 60us/step - loss: 0.2221 - mean_squared_error: 0.2221\n",
            "Epoch 232/256\n",
            "212/212 [==============================] - 0s 57us/step - loss: 0.2222 - mean_squared_error: 0.2222\n",
            "Epoch 233/256\n",
            "212/212 [==============================] - 0s 59us/step - loss: 0.2221 - mean_squared_error: 0.2221\n",
            "Epoch 234/256\n",
            "212/212 [==============================] - 0s 56us/step - loss: 0.2226 - mean_squared_error: 0.2226\n",
            "Epoch 235/256\n",
            "212/212 [==============================] - 0s 57us/step - loss: 0.2220 - mean_squared_error: 0.2220\n",
            "Epoch 236/256\n",
            "212/212 [==============================] - 0s 56us/step - loss: 0.2217 - mean_squared_error: 0.2217\n",
            "Epoch 237/256\n",
            "212/212 [==============================] - 0s 73us/step - loss: 0.2215 - mean_squared_error: 0.2215\n",
            "Epoch 238/256\n",
            "212/212 [==============================] - 0s 56us/step - loss: 0.2215 - mean_squared_error: 0.2215\n",
            "Epoch 239/256\n",
            "212/212 [==============================] - 0s 57us/step - loss: 0.2214 - mean_squared_error: 0.2214\n",
            "Epoch 240/256\n",
            "212/212 [==============================] - 0s 56us/step - loss: 0.2215 - mean_squared_error: 0.2215\n",
            "Epoch 241/256\n",
            "212/212 [==============================] - 0s 60us/step - loss: 0.2219 - mean_squared_error: 0.2219\n",
            "Epoch 242/256\n",
            "212/212 [==============================] - 0s 54us/step - loss: 0.2212 - mean_squared_error: 0.2212\n",
            "Epoch 243/256\n",
            "212/212 [==============================] - 0s 54us/step - loss: 0.2210 - mean_squared_error: 0.2210\n",
            "Epoch 244/256\n",
            "212/212 [==============================] - 0s 58us/step - loss: 0.2211 - mean_squared_error: 0.2211\n",
            "Epoch 245/256\n",
            "212/212 [==============================] - 0s 60us/step - loss: 0.2210 - mean_squared_error: 0.2210\n",
            "Epoch 246/256\n",
            "212/212 [==============================] - 0s 74us/step - loss: 0.2206 - mean_squared_error: 0.2206\n",
            "Epoch 247/256\n",
            "212/212 [==============================] - 0s 61us/step - loss: 0.2207 - mean_squared_error: 0.2207\n",
            "Epoch 248/256\n",
            "212/212 [==============================] - 0s 59us/step - loss: 0.2204 - mean_squared_error: 0.2204\n",
            "Epoch 249/256\n",
            "212/212 [==============================] - 0s 61us/step - loss: 0.2204 - mean_squared_error: 0.2204\n",
            "Epoch 250/256\n",
            "212/212 [==============================] - 0s 57us/step - loss: 0.2207 - mean_squared_error: 0.2207\n",
            "Epoch 251/256\n",
            "212/212 [==============================] - 0s 61us/step - loss: 0.2202 - mean_squared_error: 0.2202\n",
            "Epoch 252/256\n",
            "212/212 [==============================] - 0s 55us/step - loss: 0.2201 - mean_squared_error: 0.2201\n",
            "Epoch 253/256\n",
            "212/212 [==============================] - 0s 50us/step - loss: 0.2206 - mean_squared_error: 0.2206\n",
            "Epoch 254/256\n",
            "212/212 [==============================] - 0s 60us/step - loss: 0.2199 - mean_squared_error: 0.2199\n",
            "Epoch 255/256\n",
            "212/212 [==============================] - 0s 58us/step - loss: 0.2197 - mean_squared_error: 0.2197\n",
            "Epoch 256/256\n",
            "212/212 [==============================] - 0s 76us/step - loss: 0.2197 - mean_squared_error: 0.2197\n"
          ],
          "name": "stdout"
        }
      ]
    },
    {
      "metadata": {
        "id": "JghybrOuy-Gt",
        "colab_type": "text"
      },
      "cell_type": "markdown",
      "source": [
        "## Evaluation of Training data Model\n",
        "\n",
        "Testing of training model"
      ]
    },
    {
      "metadata": {
        "id": "V_C5TlvhyRXi",
        "colab_type": "code",
        "colab": {
          "base_uri": "https://localhost:8080/",
          "height": 102
        },
        "outputId": "2135fb03-064e-472b-f4e6-f858707c7707"
      },
      "cell_type": "code",
      "source": [
        "scores = model.evaluate(x_train, y_train)\n",
        "print(model.metrics_names)\n",
        "print(scores)\n",
        "print(\"\\n%s: %.2f\" % (model.metrics_names[1], scores[1]))"
      ],
      "execution_count": 108,
      "outputs": [
        {
          "output_type": "stream",
          "text": [
            "212/212 [==============================] - 0s 379us/step\n",
            "['loss', 'mean_squared_error']\n",
            "[0.21943845810755244, 0.21943845810755244]\n",
            "\n",
            "mean_squared_error: 0.22\n"
          ],
          "name": "stdout"
        }
      ]
    },
    {
      "metadata": {
        "id": "08gTgKvM0pqO",
        "colab_type": "code",
        "colab": {
          "base_uri": "https://localhost:8080/",
          "height": 51
        },
        "outputId": "097e6be1-286b-420c-acbe-aa226d365c40"
      },
      "cell_type": "code",
      "source": [
        "# mean absolute error\n",
        "results = model.evaluate(x_test, y_test)\n",
        "print ('mae = ', results[1])"
      ],
      "execution_count": 109,
      "outputs": [
        {
          "output_type": "stream",
          "text": [
            "91/91 [==============================] - 0s 41us/step\n",
            "mae =  0.26630978695638885\n"
          ],
          "name": "stdout"
        }
      ]
    },
    {
      "metadata": {
        "id": "GSIo2Rw4N8we",
        "colab_type": "code",
        "colab": {}
      },
      "cell_type": "code",
      "source": [
        "prediction = model.predict(x_test)"
      ],
      "execution_count": 0,
      "outputs": []
    },
    {
      "metadata": {
        "id": "lM3XfSx8N_JC",
        "colab_type": "code",
        "outputId": "1c95eedb-b351-42d4-ecdd-4f098dc0c982",
        "colab": {
          "base_uri": "https://localhost:8080/",
          "height": 119
        }
      },
      "cell_type": "code",
      "source": [
        "print(y_test[0:5])"
      ],
      "execution_count": 111,
      "outputs": [
        {
          "output_type": "stream",
          "text": [
            "55     1\n",
            "26     1\n",
            "217    0\n",
            "84     1\n",
            "64     1\n",
            "Name: target, dtype: int64\n"
          ],
          "name": "stdout"
        }
      ]
    },
    {
      "metadata": {
        "id": "JnhQPIbWODta",
        "colab_type": "code",
        "outputId": "3657c15e-e054-4a75-ecfb-ff4f63b4e87c",
        "colab": {
          "base_uri": "https://localhost:8080/",
          "height": 102
        }
      },
      "cell_type": "code",
      "source": [
        "print(prediction[0:5])"
      ],
      "execution_count": 112,
      "outputs": [
        {
          "output_type": "stream",
          "text": [
            "[[0.744116  ]\n",
            " [0.62556654]\n",
            " [0.52625805]\n",
            " [0.52706057]\n",
            " [0.72160167]]\n"
          ],
          "name": "stdout"
        }
      ]
    },
    {
      "metadata": {
        "id": "TmAaHTn7OFum",
        "colab_type": "code",
        "outputId": "8840d99d-c3c3-47a9-b377-f438c095db21",
        "colab": {
          "base_uri": "https://localhost:8080/",
          "height": 283
        }
      },
      "cell_type": "code",
      "source": [
        "plt.figure(figsize=(4,4))\n",
        "plt.plot(y_test, prediction, '.')\n",
        "plt.xlabel('Correct values')\n",
        "plt.ylabel('Predictions')\n",
        "plt.show()"
      ],
      "execution_count": 113,
      "outputs": [
        {
          "output_type": "display_data",
          "data": {
            "image/png": "[encoded data removed]",
            "text/plain": [
              "<Figure size 288x288 with 1 Axes>"
            ]
          },
          "metadata": {
            "tags": []
          }
        }
      ]
    },
    {
      "metadata": {
        "id": "qY5-rfaYGrzr",
        "colab_type": "text"
      },
      "cell_type": "markdown",
      "source": [
        "**Logistic Regression** - attempt to predict a data value based on prior observations. A logistic regression algorithm looks at the relationship between a dependent variable and one or more dependent variables"
      ]
    },
    {
      "metadata": {
        "id": "hhQaAt_Zqvwz",
        "colab_type": "code",
        "outputId": "33107525-32b1-4c7f-e448-2bea3815bcc9",
        "colab": {
          "base_uri": "https://localhost:8080/",
          "height": 105
        }
      },
      "cell_type": "code",
      "source": [
        "# logistic regression\n",
        "model = train_model(X_train, y_train, X_test, y_test, LogisticRegression)"
      ],
      "execution_count": 114,
      "outputs": [
        {
          "output_type": "stream",
          "text": [
            "Train accuracy: 84.43%\n",
            "Test accuracy: 91.21%\n"
          ],
          "name": "stdout"
        },
        {
          "output_type": "stream",
          "text": [
            "/usr/local/lib/python3.6/dist-packages/sklearn/linear_model/logistic.py:433: FutureWarning: Default solver will be changed to 'lbfgs' in 0.22. Specify a solver to silence this warning.\n",
            "  FutureWarning)\n"
          ],
          "name": "stderr"
        }
      ]
    },
    {
      "metadata": {
        "id": "aJScUWdOFCaM",
        "colab_type": "text"
      },
      "cell_type": "markdown",
      "source": [
        "### Predict if an individual, given various personal characteristics and symptoms, will get heart disease or not"
      ]
    },
    {
      "metadata": {
        "id": "M9xEYUT7q1Hk",
        "colab_type": "text"
      },
      "cell_type": "markdown",
      "source": [
        "## Analysis"
      ]
    },
    {
      "metadata": {
        "id": "9yay_dLCq1-L",
        "colab_type": "code",
        "outputId": "190b4f85-2d42-4722-9221-7b56a9c75103",
        "colab": {
          "base_uri": "https://localhost:8080/",
          "height": 134
        }
      },
      "cell_type": "code",
      "source": [
        "# initialize an empty list\n",
        "accuracy = []\n",
        "\n",
        "# list of algorithms names\n",
        "classifiers = ['Logistic Regression']\n",
        "\n",
        "# list of algorithms with parameters\n",
        "models = [LogisticRegression()]\n",
        "\n",
        "# loop through algorithms and append the score into the list\n",
        "for i in models:\n",
        "    model = i\n",
        "    model.fit(X_train, y_train)\n",
        "    score = model.score(X_test, y_test)\n",
        "    accuracy.append(score)\n",
        "    \n",
        "# create a dataframe from accuracy results\n",
        "summary = pd.DataFrame({'accuracy':accuracy}, index=classifiers)       \n",
        "summary"
      ],
      "execution_count": 115,
      "outputs": [
        {
          "output_type": "stream",
          "text": [
            "/usr/local/lib/python3.6/dist-packages/sklearn/linear_model/logistic.py:433: FutureWarning: Default solver will be changed to 'lbfgs' in 0.22. Specify a solver to silence this warning.\n",
            "  FutureWarning)\n"
          ],
          "name": "stderr"
        },
        {
          "output_type": "execute_result",
          "data": {
            "text/html": [
              "<div>\n",
              "<style scoped>\n",
              "    .dataframe tbody tr th:only-of-type {\n",
              "        vertical-align: middle;\n",
              "    }\n",
              "\n",
              "    .dataframe tbody tr th {\n",
              "        vertical-align: top;\n",
              "    }\n",
              "\n",
              "    .dataframe thead th {\n",
              "        text-align: right;\n",
              "    }\n",
              "</style>\n",
              "<table border=\"1\" class=\"dataframe\">\n",
              "  <thead>\n",
              "    <tr style=\"text-align: right;\">\n",
              "      <th></th>\n",
              "      <th>accuracy</th>\n",
              "    </tr>\n",
              "  </thead>\n",
              "  <tbody>\n",
              "    <tr>\n",
              "      <th>Logistic Regression</th>\n",
              "      <td>0.912088</td>\n",
              "    </tr>\n",
              "  </tbody>\n",
              "</table>\n",
              "</div>"
            ],
            "text/plain": [
              "                     accuracy\n",
              "Logistic Regression  0.912088"
            ]
          },
          "metadata": {
            "tags": []
          },
          "execution_count": 115
        }
      ]
    },
    {
      "metadata": {
        "id": "dwpfhOk6S65X",
        "colab_type": "text"
      },
      "cell_type": "markdown",
      "source": [
        "### All in all, neural learning has a bright future in the healthcare field, specifically in heart disease (the number one disease as previously mentioned).  Imagine living in a world where heart disease experts are not available. Conversely bright individuals with with coding and neural networking experience will be able to predict whether a disease will occur or not accurately. This may be achieved with  information about a certain patient's medical history. "
      ]
    }
  ]
}